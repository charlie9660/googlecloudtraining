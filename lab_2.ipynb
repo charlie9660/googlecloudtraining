{
 "cells": [
  {
   "cell_type": "markdown",
   "metadata": {},
   "source": [
    "<h1> 2. Creating a sampled dataset </h1>\n",
    "\n",
    "This notebook illustrates:\n",
    "<ol>\n",
    "<li> Sampling a BigQuery dataset to create datasets for ML\n",
    "<li> Preprocessing with Pandas\n",
    "</ol>"
   ]
  },
  {
   "cell_type": "code",
   "execution_count": 13,
   "metadata": {},
   "outputs": [],
   "source": [
    "# change these to try this notebook out\n",
    "BUCKET = 'qwiklabs-gcp-01-00a7d003df5a'\n",
    "PROJECT = 'cloud-training-demos'\n",
    "REGION = 'us-east1'"
   ]
  },
  {
   "cell_type": "code",
   "execution_count": 14,
   "metadata": {},
   "outputs": [],
   "source": [
    "import os\n",
    "os.environ['BUCKET'] = BUCKET\n",
    "os.environ['PROJECT'] = PROJECT\n",
    "os.environ['REGION'] = REGION"
   ]
  },
  {
   "cell_type": "code",
   "execution_count": 15,
   "metadata": {},
   "outputs": [],
   "source": [
    "%%bash\n",
    "if ! gsutil ls | grep -q gs://${BUCKET}/; then\n",
    "  gsutil mb -l ${REGION} gs://${BUCKET}\n",
    "fi"
   ]
  },
  {
   "cell_type": "markdown",
   "metadata": {},
   "source": [
    "<h2> Create ML dataset by sampling using BigQuery </h2>\n",
    "<p>\n",
    "Let's sample the BigQuery data to create smaller datasets.\n",
    "</p>"
   ]
  },
  {
   "cell_type": "code",
   "execution_count": 6,
   "metadata": {},
   "outputs": [],
   "source": [
    "# Create SQL query using natality data after the year 2000\n",
    "from google.cloud import bigquery\n",
    "query = \"\"\"\n",
    "SELECT\n",
    "  weight_pounds,\n",
    "  is_male,\n",
    "  mother_age,\n",
    "  plurality,\n",
    "  gestation_weeks,\n",
    "  FARM_FINGERPRINT(CONCAT(CAST(YEAR AS STRING), CAST(month AS STRING))) AS hashmonth\n",
    "FROM\n",
    "  publicdata.samples.natality\n",
    "WHERE year > 2000\n",
    "\"\"\""
   ]
  },
  {
   "cell_type": "markdown",
   "metadata": {},
   "source": [
    "## Lab Task #1\n",
    "\n",
    "Sample the BigQuery resultset (above) so that you have approximately 12,000 training examples and 3000 evaluation examples.\n",
    "The training and evaluation datasets have to be well-distributed (not all the babies are born in Jan 2005, for example)\n",
    "and should not overlap (no baby is part of both training and evaluation datasets).\n",
    "\n",
    "Hint (highlight to see): <p style='color:white'>You will use ABS(MOD()) on the hashmonth to divide the dataset into non-overlapping training and evaluation datasets, and RAND() to sample these to the desired size.</p>\n",
    "\n",
    "\n",
    "\n",
    "\n"
   ]
  },
  {
   "cell_type": "code",
   "execution_count": 44,
   "metadata": {},
   "outputs": [],
   "source": [
    "import google.datalab.bigquery as bq\n",
    "training_query = \"\"\"\n",
    "SELECT * FROM\n",
    "(\n",
    "SELECT\n",
    "  weight_pounds,\n",
    "  is_male,\n",
    "  mother_age,\n",
    "  plurality,\n",
    "  gestation_weeks,\n",
    "  FARM_FINGERPRINT(CONCAT(CAST(YEAR AS STRING), CAST(month AS STRING))) AS hashmonth\n",
    "FROM\n",
    "  publicdata.samples.natality\n",
    "WHERE year > 2000 \n",
    ")\n",
    "WHERE MOD(ABS(hashmonth),10) < 8 and rand() < 0.00045\n",
    "\"\"\"\n",
    "evaluating_query = \"\"\"\n",
    "SELECT * FROM\n",
    "(\n",
    "SELECT\n",
    "  weight_pounds,\n",
    "  is_male,\n",
    "  mother_age,\n",
    "  plurality,\n",
    "  gestation_weeks,\n",
    "  FARM_FINGERPRINT(CONCAT(CAST(YEAR AS STRING), CAST(month AS STRING))) AS hashmonth\n",
    "FROM\n",
    "  publicdata.samples.natality\n",
    "WHERE year > 2000 \n",
    ")\n",
    "WHERE MOD(ABS(hashmonth),10) >= 8 and rand() < 0.0005\n",
    "\"\"\""
   ]
  },
  {
   "cell_type": "code",
   "execution_count": 45,
   "metadata": {},
   "outputs": [
    {
     "name": "stdout",
     "output_type": "stream",
     "text": [
      "weight_pounds      12262\n",
      "is_male            12273\n",
      "mother_age         12273\n",
      "plurality          12273\n",
      "gestation_weeks    12189\n",
      "hashmonth          12273\n",
      "dtype: int64 weight_pounds      2790\n",
      "is_male            2793\n",
      "mother_age         2793\n",
      "plurality          2793\n",
      "gestation_weeks    2769\n",
      "hashmonth          2793\n",
      "dtype: int64\n"
     ]
    }
   ],
   "source": [
    "training_df = bq.Query(training_query).execute().result().to_dataframe()\n",
    "evaluating_df = bq.Query(evluating_query).execute().result().to_dataframe()\n",
    "print(training_df.count(),evaluating_df.count())"
   ]
  },
  {
   "cell_type": "markdown",
   "metadata": {},
   "source": [
    "## Lab Task #2\n",
    "\n",
    "Use Pandas to:\n",
    "* Clean up the data to remove rows that are missing any of the fields.\n",
    "* Simulate the lack of ultrasound.\n",
    "* Change the plurality column to be a string.\n",
    "\n",
    "Hint (highlight to see): <p>\n",
    "Filtering:\n",
    "<pre style='color:white'>\n",
    "df = df[df.weight_pounds > 0]\n",
    "</pre>\n",
    "Lack of ultrasound:\n",
    "<pre style='color:white'>\n",
    "nous = df.copy(deep=True)\n",
    "nous['is_male'] = 'Unknown'\n",
    "</pre>\n",
    "Modify plurality to be a string:\n",
    "<pre style='color:white'>\n",
    "twins_etc = dict(zip([1,2,3,4,5],\n",
    "                   ['Single(1)', 'Twins(2)', 'Triplets(3)', 'Quadruplets(4)', 'Quintuplets(5)']))\n",
    "df['plurality'].replace(twins_etc, inplace=True)\n",
    "</pre>\n",
    "</p>"
   ]
  },
  {
   "cell_type": "code",
   "execution_count": 49,
   "metadata": {},
   "outputs": [],
   "source": [
    "def process_df(df):\n",
    "    df = df.dropna()\n",
    "    df['is_male'] = 'NA'\n",
    "    df['plurality'] = df['plurality'].map({1:'Single',2:'Twins',3:'Triplets',4:'Quadruplets',5:'Quintuplets'})"
   ]
  },
  {
   "cell_type": "code",
   "execution_count": null,
   "metadata": {},
   "outputs": [],
   "source": [
    "traindf = "
   ]
  },
  {
   "cell_type": "code",
   "execution_count": 46,
   "metadata": {},
   "outputs": [
    {
     "name": "stderr",
     "output_type": "stream",
     "text": [
      "/usr/local/lib/python3.5/dist-packages/ipykernel_launcher.py:2: SettingWithCopyWarning: \n",
      "A value is trying to be set on a copy of a slice from a DataFrame.\n",
      "Try using .loc[row_indexer,col_indexer] = value instead\n",
      "\n",
      "See the caveats in the documentation: http://pandas.pydata.org/pandas-docs/stable/user_guide/indexing.html#returning-a-view-versus-a-copy\n",
      "  \n",
      "/usr/local/lib/python3.5/dist-packages/ipykernel_launcher.py:3: SettingWithCopyWarning: \n",
      "A value is trying to be set on a copy of a slice from a DataFrame.\n",
      "Try using .loc[row_indexer,col_indexer] = value instead\n",
      "\n",
      "See the caveats in the documentation: http://pandas.pydata.org/pandas-docs/stable/user_guide/indexing.html#returning-a-view-versus-a-copy\n",
      "  This is separate from the ipykernel package so we can avoid doing imports until\n",
      "/usr/local/lib/python3.5/dist-packages/ipykernel_launcher.py:6: SettingWithCopyWarning: \n",
      "A value is trying to be set on a copy of a slice from a DataFrame.\n",
      "Try using .loc[row_indexer,col_indexer] = value instead\n",
      "\n",
      "See the caveats in the documentation: http://pandas.pydata.org/pandas-docs/stable/user_guide/indexing.html#returning-a-view-versus-a-copy\n",
      "  \n",
      "/usr/local/lib/python3.5/dist-packages/ipykernel_launcher.py:7: SettingWithCopyWarning: \n",
      "A value is trying to be set on a copy of a slice from a DataFrame.\n",
      "Try using .loc[row_indexer,col_indexer] = value instead\n",
      "\n",
      "See the caveats in the documentation: http://pandas.pydata.org/pandas-docs/stable/user_guide/indexing.html#returning-a-view-versus-a-copy\n",
      "  import sys\n"
     ]
    }
   ],
   "source": [
    "traindf=training_df.dropna()\n",
    "traindf['is_male'] = 'NA'\n",
    "traindf['plurality'] = training_df['plurality'].map({1:'Single',2:'Twins',3:'Triplets',4:'Quadruplets',5:'Quintuplets'})\n",
    "\n",
    "evaldf=evaluating_df.dropna()\n",
    "evaldf['is_male'] = 'NA'\n",
    "evaldf['plurality'] = evaldf['plurality'].map({1:'Single',2:'Twins',3:'Triplets',4:'Quadruplets',5:'Quintuplets'})"
   ]
  },
  {
   "cell_type": "markdown",
   "metadata": {},
   "source": [
    "## Lab Task #3\n",
    "\n",
    "Write the cleaned out data into CSV files.  Change the name of the Pandas dataframes (traindf, evaldf) appropriately.\n",
    "\n"
   ]
  },
  {
   "cell_type": "code",
   "execution_count": 47,
   "metadata": {},
   "outputs": [],
   "source": [
    "traindf.to_csv('train.csv', index=False, header=False)\n",
    "evaldf.to_csv('eval.csv', index=False, header=False)"
   ]
  },
  {
   "cell_type": "code",
   "execution_count": 48,
   "metadata": {},
   "outputs": [
    {
     "name": "stdout",
     "output_type": "stream",
     "text": [
      "  2767 eval.csv\n",
      " 12182 train.csv\n",
      " 14949 total\n",
      "==> eval.csv <==\n",
      "8.1681268071,NA,36,Single,39.0,8904940584331855459\n",
      "7.62578964258,NA,26,Single,39.0,-7146494315947640619\n",
      "9.0058834027,NA,29,Single,41.0,1451354159195218418\n",
      "9.4137385874,NA,27,Single,40.0,-4740473290291881219\n",
      "7.87491199864,NA,22,Single,38.0,4331749811015213748\n",
      "6.87621795178,NA,35,Single,38.0,-260598435387740869\n",
      "5.4343947583,NA,21,Twins,41.0,1451354159195218418\n",
      "8.062304921339999,NA,20,Single,44.0,3572456083892950068\n",
      "6.7902376696,NA,24,Single,40.0,-7146494315947640619\n",
      "8.000575487979999,NA,35,Single,39.0,3572456083892950068\n",
      "\n",
      "==> train.csv <==\n",
      "8.2232423726,NA,30,Single,39.0,3095933535584005890\n",
      "6.8122838958,NA,31,Single,36.0,3095933535584005890\n",
      "5.89957013112,NA,38,Single,38.0,3095933535584005890\n",
      "6.18617107172,NA,20,Single,37.0,3095933535584005890\n",
      "5.7099725858,NA,25,Single,38.0,3095933535584005890\n",
      "8.7303055752,NA,42,Single,38.0,3095933535584005890\n",
      "7.62578964258,NA,31,Single,39.0,3095933535584005890\n",
      "6.75055446244,NA,34,Single,39.0,3095933535584005890\n",
      "6.1883756943399995,NA,21,Single,39.0,3095933535584005890\n",
      "9.62538235892,NA,28,Single,39.0,3095933535584005890\n",
      "==> eval.csv <==\n",
      "7.31273323054,NA,25,Single,36.0,-4740473290291881219\n",
      "7.5618555866,NA,24,Single,39.0,-7146494315947640619\n",
      "6.9996768185,NA,34,Single,38.0,6544754656115871769\n",
      "6.686620406459999,NA,25,Single,38.0,-2768780346491825728\n",
      "6.87401332916,NA,18,Single,38.0,8904940584331855459\n",
      "4.49963476742,NA,29,Single,31.0,-5742197815970064689\n",
      "8.375361333379999,NA,28,Single,39.0,-7361509899869211058\n",
      "7.49792153062,NA,37,Single,38.0,1443901198490054949\n",
      "7.43839671988,NA,27,Single,41.0,-2995620979373137889\n",
      "3.2297721383,NA,27,Single,38.0,-1195438672706281328\n",
      "\n",
      "==> train.csv <==\n",
      "6.8122838958,NA,30,Single,39.0,74931465496927487\n",
      "8.811876612139999,NA,29,Single,39.0,74931465496927487\n",
      "5.62399230362,NA,22,Single,37.0,74931465496927487\n",
      "8.24969784404,NA,40,Single,42.0,74931465496927487\n",
      "6.0627122049999995,NA,33,Single,37.0,74931465496927487\n",
      "6.6248909731,NA,25,Single,43.0,74931465496927487\n",
      "7.7492485093,NA,38,Single,39.0,74931465496927487\n",
      "3.0004913858199997,NA,34,Single,32.0,74931465496927487\n",
      "6.1883756943399995,NA,28,Single,36.0,74931465496927487\n",
      "7.81318256528,NA,38,Single,39.0,74931465496927487\n"
     ]
    }
   ],
   "source": [
    "%%bash\n",
    "wc -l *.csv\n",
    "head *.csv\n",
    "tail *.csv"
   ]
  },
  {
   "cell_type": "markdown",
   "metadata": {},
   "source": [
    "Copyright 2017-2018 Google Inc. Licensed under the Apache License, Version 2.0 (the \"License\"); you may not use this file except in compliance with the License. You may obtain a copy of the License at http://www.apache.org/licenses/LICENSE-2.0 Unless required by applicable law or agreed to in writing, software distributed under the License is distributed on an \"AS IS\" BASIS, WITHOUT WARRANTIES OR CONDITIONS OF ANY KIND, either express or implied. See the License for the specific language governing permissions and limitations under the License"
   ]
  }
 ],
 "metadata": {
  "kernelspec": {
   "display_name": "Python 3",
   "language": "python",
   "name": "python3"
  },
  "language_info": {
   "codemirror_mode": {
    "name": "ipython",
    "version": 3
   },
   "file_extension": ".py",
   "mimetype": "text/x-python",
   "name": "python",
   "nbconvert_exporter": "python",
   "pygments_lexer": "ipython3",
   "version": "3.5.3"
  }
 },
 "nbformat": 4,
 "nbformat_minor": 4
}
